{
 "cells": [
  {
   "cell_type": "markdown",
   "id": "dc49c016-866f-49e7-9d8d-c0c361954725",
   "metadata": {},
   "source": [
    "# What is Identifier ?"
   ]
  },
  {
   "cell_type": "markdown",
   "id": "46120025-4574-4f84-a548-3b2b196879fd",
   "metadata": {},
   "source": [
    "An Identifier is simply a name you give to something in Python, just like we name streets and houses in our town."
   ]
  },
  {
   "cell_type": "code",
   "execution_count": 1,
   "id": "182ab51a-e0a7-4b1c-9976-2c7fd8cb5f47",
   "metadata": {},
   "outputs": [],
   "source": [
    "shop_name = \"Bob's Bakery\""
   ]
  },
  {
   "cell_type": "code",
   "execution_count": 2,
   "id": "7b7b2108-2f0f-4029-a6ee-362c36ce33a9",
   "metadata": {},
   "outputs": [
    {
     "name": "stdout",
     "output_type": "stream",
     "text": [
      "Bob's Bakery\n"
     ]
    }
   ],
   "source": [
    "print(shop_name)"
   ]
  },
  {
   "cell_type": "code",
   "execution_count": 3,
   "id": "ff211f8c-6ee9-4656-8eef-d88b8a546cfb",
   "metadata": {},
   "outputs": [],
   "source": [
    "cake_price = 15 "
   ]
  },
  {
   "cell_type": "code",
   "execution_count": 4,
   "id": "7da25e1e-3974-451a-b21d-e00efce2ea48",
   "metadata": {},
   "outputs": [
    {
     "name": "stdout",
     "output_type": "stream",
     "text": [
      "15\n"
     ]
    }
   ],
   "source": [
    "print(cake_price)"
   ]
  },
  {
   "cell_type": "markdown",
   "id": "fd556253-c57a-45c7-8d1b-9d2452d0818f",
   "metadata": {},
   "source": [
    "# Chapter 2: The Rules of Naming in Pythonia"
   ]
  },
  {
   "cell_type": "markdown",
   "id": "ff505cd6-22bc-4528-af4c-61f43fe6118c",
   "metadata": {},
   "source": [
    "# Rule 1: Allowed Characters\n",
    "\n",
    "- Only certain types of characters are allowed in names. You can use:\n",
    "1. Letters (A-Z, a-z) - Just like naming a shop \"Bob's Bakery.\"\n",
    "2. Numbers (0-9) - You can have a shop like \"Bakery101,\" but the name can't start with a number.\n",
    "3. Underscore (_) is allowed - Some shops like _PrivateClub are hidden and only accessible to certain members.\n",
    "\n",
    "🚫 Illegal characters like $ are not allowed! \n"
   ]
  },
  {
   "cell_type": "code",
   "execution_count": 5,
   "id": "415765a6-0ad3-4505-a653-eb97d2c8b4b0",
   "metadata": {},
   "outputs": [],
   "source": [
    "total_cash = 100"
   ]
  },
  {
   "cell_type": "code",
   "execution_count": 6,
   "id": "4e15ded1-6854-4015-af14-1cc69ba27f18",
   "metadata": {},
   "outputs": [
    {
     "ename": "SyntaxError",
     "evalue": "invalid syntax (2230994455.py, line 1)",
     "output_type": "error",
     "traceback": [
      "\u001b[1;36m  Cell \u001b[1;32mIn[6], line 1\u001b[1;36m\u001b[0m\n\u001b[1;33m    cas$h = 10\u001b[0m\n\u001b[1;37m       ^\u001b[0m\n\u001b[1;31mSyntaxError\u001b[0m\u001b[1;31m:\u001b[0m invalid syntax\n"
     ]
    }
   ],
   "source": [
    "cas$h = 10"
   ]
  },
  {
   "cell_type": "markdown",
   "id": "e85e0b37-daf0-4469-b584-ad4627d3967b",
   "metadata": {},
   "source": [
    "# Rule 2: No Starting with a Number\n",
    "You cannot start a name with a number in Python."
   ]
  },
  {
   "cell_type": "code",
   "execution_count": 7,
   "id": "bbfbb6ef-3e23-4980-be95-d7e37ff49649",
   "metadata": {},
   "outputs": [
    {
     "ename": "SyntaxError",
     "evalue": "invalid decimal literal (3899284907.py, line 1)",
     "output_type": "error",
     "traceback": [
      "\u001b[1;36m  Cell \u001b[1;32mIn[7], line 1\u001b[1;36m\u001b[0m\n\u001b[1;33m    123shop = \"Invalid Name\"\u001b[0m\n\u001b[1;37m      ^\u001b[0m\n\u001b[1;31mSyntaxError\u001b[0m\u001b[1;31m:\u001b[0m invalid decimal literal\n"
     ]
    }
   ],
   "source": [
    "123shop = \"Invalid Name\""
   ]
  },
  {
   "cell_type": "code",
   "execution_count": 8,
   "id": "b4e39350-ef79-433d-a1f6-00dd88b7766c",
   "metadata": {},
   "outputs": [],
   "source": [
    "shop123 = 12"
   ]
  },
  {
   "cell_type": "markdown",
   "id": "db1dcb87-8aab-4beb-9306-ccf58ada8075",
   "metadata": {},
   "source": [
    "# Rule 3: Case Sensitivity\n",
    "\n",
    "- Python distinguishes between uppercase and lowercase letters."
   ]
  },
  {
   "cell_type": "code",
   "execution_count": 10,
   "id": "fa448540-d7f2-47a8-b829-4a3a20d4c8bb",
   "metadata": {},
   "outputs": [
    {
     "name": "stdout",
     "output_type": "stream",
     "text": [
      "50\n",
      "100\n"
     ]
    }
   ],
   "source": [
    "total = 50\n",
    "TOTAL = 100\n",
    "print(total)  # 50\n",
    "print(TOTAL)  # 100"
   ]
  },
  {
   "cell_type": "markdown",
   "id": "683325dd-70da-4cca-92cb-d7e9aac60b3b",
   "metadata": {},
   "source": [
    "# Rule 4: Special Naming Conventions\n",
    "- _name: A single underscore at the start means \"this is private\".\n",
    "- __name: Two underscores mean it's strongly private.\n",
    "- __ name __: Double underscores at both ends are used for special functions in Python."
   ]
  },
  {
   "cell_type": "code",
   "execution_count": 11,
   "id": "7e388063-f738-478d-86b2-17144a7387cd",
   "metadata": {},
   "outputs": [
    {
     "name": "stdout",
     "output_type": "stream",
     "text": [
      "Hidden Ingredient\n"
     ]
    }
   ],
   "source": [
    "class CoffeeShop:\n",
    "    def __init__(self):\n",
    "        self._secret_recipe = \"Hidden Ingredient\"  # Private\n",
    "\n",
    "coffee = CoffeeShop()\n",
    "print(coffee._secret_recipe) "
   ]
  },
  {
   "cell_type": "markdown",
   "id": "455d134f-5946-43f3-a950-ebd2f869746a",
   "metadata": {},
   "source": [
    "# Rule 5: Reserved Words Are Forbidden\n",
    "- Python has certain words reserved for its own commands, like def, class, if, and else. These cannot be used as identifiers."
   ]
  },
  {
   "cell_type": "code",
   "execution_count": 12,
   "id": "03d698b3-ad7c-4ee2-bedd-2a4a1557886d",
   "metadata": {},
   "outputs": [
    {
     "ename": "SyntaxError",
     "evalue": "invalid syntax (1093034987.py, line 1)",
     "output_type": "error",
     "traceback": [
      "\u001b[1;36m  Cell \u001b[1;32mIn[12], line 1\u001b[1;36m\u001b[0m\n\u001b[1;33m    def = 100\u001b[0m\n\u001b[1;37m        ^\u001b[0m\n\u001b[1;31mSyntaxError\u001b[0m\u001b[1;31m:\u001b[0m invalid syntax\n"
     ]
    }
   ],
   "source": [
    "def = 100"
   ]
  },
  {
   "cell_type": "markdown",
   "id": "6c4ee0b8-13da-4ac9-9fee-63be0c1b597c",
   "metadata": {},
   "source": [
    "This is like trying to name your shop \"Government Office\" when it's not a government office—you’re not allowed to do that!"
   ]
  },
  {
   "cell_type": "markdown",
   "id": "c9ed551a-9bb6-4058-b69e-dd62dbaec4e7",
   "metadata": {},
   "source": [
    "# Rule 6: No Length Limit, But Keep It Readable\n",
    "\n",
    "- You can name a variable something ridiculously long, but it's a bad idea."
   ]
  },
  {
   "cell_type": "markdown",
   "id": "ef73e7dc-eb10-46d1-9cc3-16303562d1ce",
   "metadata": {},
   "source": [
    "# Example"
   ]
  },
  {
   "cell_type": "code",
   "execution_count": 13,
   "id": "9ddc2013-e9cf-41c4-8503-9e4692977b8b",
   "metadata": {},
   "outputs": [],
   "source": [
    "this_variable_name_is_way_too_long_and_no_one_will_like_typing_it = 50"
   ]
  },
  {
   "cell_type": "code",
   "execution_count": 14,
   "id": "eaca9d97-2f57-45e4-b9e3-c5e86bc68021",
   "metadata": {},
   "outputs": [],
   "source": [
    "total_sales = 50  # ✅ Clear and simple"
   ]
  },
  {
   "cell_type": "markdown",
   "id": "74bdbb8a-d3e9-45ec-8b49-b85fcb23b382",
   "metadata": {},
   "source": [
    "Imagine trying to search for a shop with a name like:\n",
    "\"TheBestEverCoffeeHouseThatHasTheMostDeliciousCoffeeInTheEntireWorld\".\n",
    "No one would bother typing the full name into Google Maps!"
   ]
  },
  {
   "cell_type": "markdown",
   "id": "d7d8d82c-576d-405f-8846-7d54d4d97fab",
   "metadata": {},
   "source": [
    "# Chapter 3: Real-World Use Cases\n",
    "\n",
    "Now, let's see how different professionals use Identifiers in their fields.\n",
    "\n"
   ]
  },
  {
   "cell_type": "markdown",
   "id": "e175ab3f-4fe4-4635-a488-10ee9fe9e1b9",
   "metadata": {},
   "source": [
    "1. Software Developers 🧑‍💻\n",
    "Developers use identifiers to name variables, functions, and classes."
   ]
  },
  {
   "cell_type": "code",
   "execution_count": 16,
   "id": "d4638f48-46e7-4c20-8961-644ad70f1b09",
   "metadata": {},
   "outputs": [],
   "source": [
    "def calculate_total_price(price, tax):\n",
    "    return price + (price * tax)"
   ]
  },
  {
   "cell_type": "markdown",
   "id": "fa3598bd-87bf-4c31-bd3a-3f3c674f1bcf",
   "metadata": {},
   "source": [
    "Bad identifier:"
   ]
  },
  {
   "cell_type": "code",
   "execution_count": 17,
   "id": "eb5633d0-b291-48eb-952f-f73b8e23667d",
   "metadata": {},
   "outputs": [],
   "source": [
    "def a(x, y):  # ❌ What does 'a' mean?\n",
    "    return x + (x * y)\n"
   ]
  },
  {
   "cell_type": "code",
   "execution_count": 18,
   "id": "48ea494a-0214-423a-a8da-371f0e38ec3b",
   "metadata": {},
   "outputs": [],
   "source": [
    "# Without clear identifiers, the code becomes confusing for other developers."
   ]
  },
  {
   "cell_type": "markdown",
   "id": "34fa5340-79fd-4ab0-b843-d289777d4b06",
   "metadata": {},
   "source": [
    "2. AI & Machine Learning Engineers 🤖\n",
    "- Identifiers are critical when working with datasets and models."
   ]
  },
  {
   "cell_type": "code",
   "execution_count": 21,
   "id": "14482d48-5a2d-4147-bf1f-68d2cfc3e45f",
   "metadata": {},
   "outputs": [],
   "source": [
    "p = {\"n\": \"John\", \"a\": 45, \"d\": \"Diabetes\"}  # ❌ No one knows what 'n', 'a', and 'd' mean!\n",
    "\n",
    "#  someone else works on this, they'll struggle to understand the code\n"
   ]
  },
  {
   "cell_type": "code",
   "execution_count": 22,
   "id": "01df90a6-41d7-42bc-b4e4-a973f0591ee7",
   "metadata": {},
   "outputs": [],
   "source": [
    "patient_data = {\"name\": \"John Doe\", \"age\": 45, \"disease\": \"Diabetes\"}\n"
   ]
  },
  {
   "cell_type": "markdown",
   "id": "d7f75203-5841-498e-a01a-c02b2b1c0d92",
   "metadata": {},
   "source": [
    "3. Medical Field & AI Applications 🏥"
   ]
  },
  {
   "cell_type": "code",
   "execution_count": null,
   "id": "d6b5637e-668a-4e6b-9c91-1d78f3d5e1f3",
   "metadata": {},
   "outputs": [],
   "source": [
    "class Patient:\n",
    "    def __init__(self, name, age, symptoms):\n",
    "        self.name = name\n",
    "        self.age = age\n",
    "        self.symptoms = symptoms\n",
    "    \n",
    "    def diagnose(self):\n",
    "        if \"fever\" in self.symptoms and \"cough\" in self.symptoms:\n",
    "            return \"Possible Flu\"\n",
    "        return \"Diagnosis Unknown\"\n",
    "\n",
    "patient1 = Patient(\"Alice\", 30, [\"fever\", \"cough\"])\n",
    "print(patient1.diagnose())  # Output: Possible Flu"
   ]
  }
 ],
 "metadata": {
  "kernelspec": {
   "display_name": "Python 3 (ipykernel)",
   "language": "python",
   "name": "python3"
  },
  "language_info": {
   "codemirror_mode": {
    "name": "ipython",
    "version": 3
   },
   "file_extension": ".py",
   "mimetype": "text/x-python",
   "name": "python",
   "nbconvert_exporter": "python",
   "pygments_lexer": "ipython3",
   "version": "3.12.7"
  }
 },
 "nbformat": 4,
 "nbformat_minor": 5
}
